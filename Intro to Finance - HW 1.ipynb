{
 "cells": [
  {
   "cell_type": "code",
   "execution_count": 1,
   "id": "6daf057f",
   "metadata": {},
   "outputs": [],
   "source": [
    "import numpy as np\n",
    "import scipy.optimize as scipy"
   ]
  },
  {
   "cell_type": "code",
   "execution_count": 62,
   "id": "426241c1",
   "metadata": {},
   "outputs": [],
   "source": [
    "def bond_price(r,m,c):\n",
    "    cf=m*2 ###cashflow times###\n",
    "    price=0\n",
    "    for i in range (1,cf+1):\n",
    "        if i==(cf):\n",
    "            price+=((c/2)+100)*(np.exp(-r*(i/2)))\n",
    "        else:\n",
    "            price+=(c/2)*(np.exp(-r*(i/2)))                     \n",
    "    return (price)                                  \n",
    "                                   "
   ]
  },
  {
   "cell_type": "code",
   "execution_count": 63,
   "id": "d4bca4a8",
   "metadata": {},
   "outputs": [],
   "source": [
    "def bond_yield(p,m,c):\n",
    "    def bi(r):\n",
    "        return p - bond_price(r,m,c)\n",
    "    return  round(scipy.bisect(bi,0,1)*100, 3)/100\n",
    "    "
   ]
  },
  {
   "cell_type": "code",
   "execution_count": 64,
   "id": "900523c4",
   "metadata": {},
   "outputs": [
    {
     "data": {
      "text/plain": [
       "0.055549999999999995"
      ]
     },
     "execution_count": 64,
     "metadata": {},
     "output_type": "execute_result"
    }
   ],
   "source": [
    " bond_yield(101,3,6)\n",
    "    "
   ]
  },
  {
   "cell_type": "code",
   "execution_count": 57,
   "id": "b93b0f68",
   "metadata": {},
   "outputs": [
    {
     "data": {
      "text/plain": [
       "0.04896"
      ]
     },
     "execution_count": 57,
     "metadata": {},
     "output_type": "execute_result"
    }
   ],
   "source": [
    " bond_yield(98,5,4.5)\n",
    "    "
   ]
  },
  {
   "cell_type": "code",
   "execution_count": 58,
   "id": "e00d111c",
   "metadata": {},
   "outputs": [
    {
     "data": {
      "text/plain": [
       "0.03567"
      ]
     },
     "execution_count": 58,
     "metadata": {},
     "output_type": "execute_result"
    }
   ],
   "source": [
    " bond_yield(70,10,0)"
   ]
  },
  {
   "cell_type": "code",
   "execution_count": 65,
   "id": "d3852276",
   "metadata": {},
   "outputs": [],
   "source": [
    "def bond_duration(r,m,c):\n",
    "    bp=bond_price(r,m,c)\n",
    "    cf=m*2\n",
    "    duration=0\n",
    "    for i in range (1,cf+1):\n",
    "        if i==(cf):\n",
    "            duration+=(i/2)*((c/2)+100)*(np.exp(-r*(i/2)))\n",
    "        else:\n",
    "            duration+=(i/2)*(c/2)*(np.exp(-r*(i/2))) \n",
    "    return (duration/bp)        "
   ]
  },
  {
   "cell_type": "code",
   "execution_count": 66,
   "id": "41f1f204",
   "metadata": {},
   "outputs": [
    {
     "data": {
      "text/plain": [
       "0.5333201832712358"
      ]
     },
     "execution_count": 66,
     "metadata": {},
     "output_type": "execute_result"
    }
   ],
   "source": [
    "bond_duration(5.55,3,6)"
   ]
  },
  {
   "cell_type": "code",
   "execution_count": 67,
   "id": "5a020c9d",
   "metadata": {},
   "outputs": [
    {
     "data": {
      "text/plain": [
       "0.5473252600243081"
      ]
     },
     "execution_count": 67,
     "metadata": {},
     "output_type": "execute_result"
    }
   ],
   "source": [
    "bond_duration(4.896,5,4.5)"
   ]
  },
  {
   "cell_type": "code",
   "execution_count": 68,
   "id": "c59ba50f",
   "metadata": {},
   "outputs": [
    {
     "data": {
      "text/plain": [
       "9.999999999999998"
      ]
     },
     "execution_count": 68,
     "metadata": {},
     "output_type": "execute_result"
    }
   ],
   "source": [
    "bond_duration(3.567,10,0)"
   ]
  },
  {
   "cell_type": "code",
   "execution_count": 69,
   "id": "975a5889",
   "metadata": {},
   "outputs": [],
   "source": [
    "def bond_newprice(r,rn,m,c):###rn is the new yield###\n",
    "    bp=bond_price(r,m,c)\n",
    "    bd=bond_duration(r,m,c)\n",
    "    return (bp*(1-bd*(rn-r)))"
   ]
  },
  {
   "cell_type": "code",
   "execution_count": 73,
   "id": "76393c84",
   "metadata": {},
   "outputs": [
    {
     "data": {
      "text/plain": [
       "100.9187473000714"
      ]
     },
     "execution_count": 73,
     "metadata": {},
     "output_type": "execute_result"
    }
   ],
   "source": [
    "bond_newprice(0.05554,0.05554+0.0003,3,6)"
   ]
  },
  {
   "cell_type": "code",
   "execution_count": 72,
   "id": "1a1607a1",
   "metadata": {},
   "outputs": [
    {
     "data": {
      "text/plain": [
       "97.86734796613113"
      ]
     },
     "execution_count": 72,
     "metadata": {},
     "output_type": "execute_result"
    }
   ],
   "source": [
    "bond_newprice(0.04896,0.04896+0.0003,5,4.5)"
   ]
  },
  {
   "cell_type": "code",
   "execution_count": 71,
   "id": "f5572d68",
   "metadata": {},
   "outputs": [
    {
     "data": {
      "text/plain": [
       "69.78825135939125"
      ]
     },
     "execution_count": 71,
     "metadata": {},
     "output_type": "execute_result"
    }
   ],
   "source": [
    "\n",
    "bond_newprice(0.03567,0.03567+0.0003,10,0)"
   ]
  }
 ],
 "metadata": {
  "kernelspec": {
   "display_name": "Python 3",
   "language": "python",
   "name": "python3"
  },
  "language_info": {
   "codemirror_mode": {
    "name": "ipython",
    "version": 3
   },
   "file_extension": ".py",
   "mimetype": "text/x-python",
   "name": "python",
   "nbconvert_exporter": "python",
   "pygments_lexer": "ipython3",
   "version": "3.8.8"
  }
 },
 "nbformat": 4,
 "nbformat_minor": 5
}
